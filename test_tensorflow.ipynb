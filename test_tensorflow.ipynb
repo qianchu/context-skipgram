{
 "cells": [
  {
   "cell_type": "code",
   "execution_count": 4,
   "metadata": {},
   "outputs": [
    {
     "name": "stdout",
     "output_type": "stream",
     "text": [
      "hello, [[4.]]\n"
     ]
    }
   ],
   "source": [
    "from __future__ import absolute_import, division, print_function\n",
    "\n",
    "import os\n",
    "os.environ[\"CUDA_VISIBLE_DEVICES\"]=\"2\"\n",
    "\n",
    "import tensorflow as tf\n",
    "import tensorflow.contrib.eager as tfe\n",
    "\n",
    "\n",
    "\n",
    "tfe.executing_eagerly()        # => True\n",
    "tf.executing_eagerly()\n",
    "\n",
    "\n",
    "x = [[2.]]\n",
    "m = tf.matmul(x, x)\n",
    "print(\"hello, {}\".format(m))\n",
    "\n",
    "# Runs the op.\n",
    "\n"
   ]
  },
  {
   "cell_type": "code",
   "execution_count": 6,
   "metadata": {},
   "outputs": [],
   "source": [
    "is_gpu_available = tfe.num_gpus() > 0\n",
    "\n",
    "# Create some Tensors\n",
    "SIZE = 1000\n",
    "cpu_tensor = tf.random_normal([SIZE, SIZE])\n",
    "\n",
    "if is_gpu_available:\n",
    "  gpu_tensor = cpu_tensor.gpu()\n",
    "else:\n",
    "  print(\"GPU not available.\")"
   ]
  },
  {
   "cell_type": "code",
   "execution_count": 7,
   "metadata": {
    "scrolled": true
   },
   "outputs": [
    {
     "name": "stdout",
     "output_type": "stream",
     "text": [
      "Time to conduct first matmul on GPU:\n",
      "CPU times: user 412 µs, sys: 483 µs, total: 895 µs\n",
      "Wall time: 533 µs\n",
      "\n",
      "Time to conduct second matmul on GPU:\n",
      "CPU times: user 207 µs, sys: 0 ns, total: 207 µs\n",
      "Wall time: 241 µs\n"
     ]
    }
   ],
   "source": [
    "if is_gpu_available:\n",
    "  # First use of the GPU will be slow:\n",
    "  print(\"Time to conduct first matmul on GPU:\")\n",
    "  %time tf.matmul(gpu_tensor, gpu_tensor)\n",
    "  print()\n",
    "\n",
    "  # Subsequent uses are much faster:\n",
    "  print(\"Time to conduct second matmul on GPU:\")\n",
    "  %time tf.matmul(gpu_tensor, gpu_tensor)"
   ]
  },
  {
   "cell_type": "code",
   "execution_count": 8,
   "metadata": {},
   "outputs": [
    {
     "name": "stdout",
     "output_type": "stream",
     "text": [
      "Time to conduct CPU matmul:\n",
      "CPU times: user 304 µs, sys: 357 µs, total: 661 µs\n",
      "Wall time: 500 µs\n",
      "\n",
      "Time to conduct GPU matmul:\n",
      "CPU times: user 261 µs, sys: 306 µs, total: 567 µs\n",
      "Wall time: 428 µs\n"
     ]
    }
   ],
   "source": [
    "cpu_tensor = tf.random_normal([SIZE, SIZE])\n",
    "print(\"Time to conduct CPU matmul:\")\n",
    "%time tf.matmul(cpu_tensor, cpu_tensor)\n",
    "print()\n",
    "\n",
    "if is_gpu_available:\n",
    "  gpu_tensor = cpu_tensor.gpu()\n",
    "  print(\"Time to conduct GPU matmul:\")\n",
    "  %time tf.matmul(gpu_tensor, gpu_tensor)\n"
   ]
  }
 ],
 "metadata": {
  "kernelspec": {
   "display_name": "Python 3",
   "language": "python",
   "name": "python3"
  },
  "language_info": {
   "codemirror_mode": {
    "name": "ipython",
    "version": 3
   },
   "file_extension": ".py",
   "mimetype": "text/x-python",
   "name": "python",
   "nbconvert_exporter": "python",
   "pygments_lexer": "ipython3",
   "version": "3.5.2"
  }
 },
 "nbformat": 4,
 "nbformat_minor": 2
}
